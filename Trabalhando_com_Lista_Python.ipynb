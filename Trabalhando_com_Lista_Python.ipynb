{
  "nbformat": 4,
  "nbformat_minor": 0,
  "metadata": {
    "colab": {
      "provenance": [],
      "include_colab_link": true
    },
    "kernelspec": {
      "name": "python3",
      "display_name": "Python 3"
    },
    "language_info": {
      "name": "python"
    }
  },
  "cells": [
    {
      "cell_type": "markdown",
      "metadata": {
        "id": "view-in-github",
        "colab_type": "text"
      },
      "source": [
        "<a href=\"https://colab.research.google.com/github/AluilsonFilho/aulagithub/blob/main/Trabalhando_com_Lista_Python.ipynb\" target=\"_parent\"><img src=\"https://colab.research.google.com/assets/colab-badge.svg\" alt=\"Open In Colab\"/></a>"
      ]
    },
    {
      "cell_type": "markdown",
      "source": [
        "# Trabalhando com Lista em Python\n",
        "\n",
        "Bem-vindo ao notebook de exemplos práticos, onde trabalhamos com o recurso de listas em **Python!**. As listas são uma das estruturas de dados mais versáteis e amplamente utilizadas em **Python**. Elas permitem armazenar uma coleção ordenada de elementos, que podem ser de diferentes tipos, como números, strings e até mesmo outras listas. Neste notebook, exploraremos diversas operações que podemos realizar com listas, desde a criação e manipulação básica até técnicas avançadas, utilizando os principais métodos disponíveis para este tipo de variável.\n",
        "\n",
        "Também é possível ir para um tutorial on-line do Python, acesse pelo link [List no Python](https://docs.python.org/3/tutorial/datastructures.html)\n"
      ],
      "metadata": {
        "id": "F7Vog3vTVfGX"
      }
    },
    {
      "cell_type": "markdown",
      "source": [
        "## Criando uma Lista e Acessando seus Elementos"
      ],
      "metadata": {
        "id": "ECpWwMpjVnLm"
      }
    },
    {
      "cell_type": "code",
      "source": [
        "# Criando uma lista\n",
        "lista = [1, 2, 3, 4, 5]\n",
        "\n",
        "# Acessando elementos da lista\n",
        "primeiro_elemento = lista[0]\n",
        "ultimo_elemento = lista[-1]\n",
        "\n",
        "print(\"Lista completa:\", lista)\n",
        "print(\"Primeiro elemento:\", primeiro_elemento)\n",
        "print(\"Último elemento:\", ultimo_elemento)"
      ],
      "metadata": {
        "id": "GnJnmgjlVpJm",
        "colab": {
          "base_uri": "https://localhost:8080/"
        },
        "outputId": "9cbc5451-a447-4129-9d16-964ee44e7a7e"
      },
      "execution_count": 5,
      "outputs": [
        {
          "output_type": "stream",
          "name": "stdout",
          "text": [
            "Lista completa: [1, 2, 3, 4, 5]\n",
            "Primeiro elemento: 1\n",
            "Último elemento: 5\n"
          ]
        }
      ]
    },
    {
      "cell_type": "markdown",
      "source": [
        "## Adicionando e Removendo Elementos"
      ],
      "metadata": {
        "id": "QHDeFo2-VphX"
      }
    },
    {
      "cell_type": "code",
      "source": [
        "# Criando uma lista vazia\n",
        "lista = []\n",
        "\n",
        "# Adicionando elementos à lista\n",
        "lista.append(1)\n",
        "lista.append(2)\n",
        "lista.append(3)\n",
        "\n",
        "print(\"Lista após adicionar elementos:\", lista)\n",
        "\n",
        "# Removendo elementos da lista\n",
        "elemento_removido = lista.pop()\n",
        "print(\"Elemento removido:\", elemento_removido)\n",
        "print(\"Lista após remover elemento:\", lista)"
      ],
      "metadata": {
        "id": "rw_Q9tOCVrIO"
      },
      "execution_count": null,
      "outputs": []
    },
    {
      "cell_type": "markdown",
      "source": [
        "## Ordenando uma lista"
      ],
      "metadata": {
        "id": "wCOOUbmBWiD2"
      }
    },
    {
      "cell_type": "code",
      "source": [
        "# Criando uma lista desordenada\n",
        "lista = [5, 2, 4, 1, 3]\n",
        "print(\"Lista sem ordenacao:\", lista)\n",
        "# Ordenando a lista\n",
        "lista.sort()\n",
        "print(\"Lista ordenada crescente:\", lista)\n",
        "lista.sort(reverse=True)\n",
        "print(\"Lista ordenada decrescente:\", lista)"
      ],
      "metadata": {
        "id": "5SBoYAZEVuF-"
      },
      "execution_count": null,
      "outputs": []
    },
    {
      "cell_type": "markdown",
      "source": [
        "## Iterando sobre uma Lista"
      ],
      "metadata": {
        "id": "Mjenktx7VviG"
      }
    },
    {
      "cell_type": "code",
      "source": [
        "# Iterando sobre uma lista e imprimindo cada elemento\n",
        "lista = ['a', 'b', 'c', 'd', 'e']\n",
        "for elemento in lista:\n",
        "    print(elemento)"
      ],
      "metadata": {
        "id": "mXd_BS9aWyiW"
      },
      "execution_count": null,
      "outputs": []
    },
    {
      "cell_type": "code",
      "source": [
        "# Iterando sobre uma lista e imprimindo cada elemento\n",
        "lista = ['a', 'b', 'c', 'd', 'e']\n",
        "for elemento in lista:\n",
        "    if elemento == 'a':\n",
        "      print('Encontrei a letra...')"
      ],
      "metadata": {
        "colab": {
          "base_uri": "https://localhost:8080/"
        },
        "id": "_rT-0cyJgekv",
        "outputId": "290247db-7ffb-4f17-b2f7-b88a01477a12"
      },
      "execution_count": null,
      "outputs": [
        {
          "output_type": "stream",
          "name": "stdout",
          "text": [
            "Encontrei a letra...\n"
          ]
        }
      ]
    },
    {
      "cell_type": "markdown",
      "source": [
        "## Verificando a Existência de um Elemento"
      ],
      "metadata": {
        "id": "J5vdWz19W0gu"
      }
    },
    {
      "cell_type": "code",
      "source": [
        "# Verificando se um elemento está presente na lista\n",
        "lista = ['a', 'b', 'a', 'd', 'e']\n",
        "elemento = 'a'\n",
        "\n",
        "if elemento in lista:\n",
        "    print(\"O elemento\", elemento, \"está na lista.\")\n",
        "else:\n",
        "    print(\"O elemento\", elemento, \"não está na lista.\")"
      ],
      "metadata": {
        "id": "QabJWj6DW3it",
        "colab": {
          "base_uri": "https://localhost:8080/"
        },
        "outputId": "85023780-90ff-43fd-a480-410406578aee"
      },
      "execution_count": null,
      "outputs": [
        {
          "output_type": "stream",
          "name": "stdout",
          "text": [
            "O elemento a está na lista.\n"
          ]
        }
      ]
    },
    {
      "cell_type": "markdown",
      "source": [
        "## Retorna o número de elementos de uma lista"
      ],
      "metadata": {
        "id": "91LQpCXPaY4h"
      }
    },
    {
      "cell_type": "code",
      "source": [
        "fruits = ['orange', 'apple', 'pear', 'orange', 'kiwi', 'apple', 'banana']\n",
        "fruits.count('orange')"
      ],
      "metadata": {
        "id": "-fa6qVlPaEuX"
      },
      "execution_count": null,
      "outputs": []
    },
    {
      "cell_type": "code",
      "source": [
        "frutas = ['orange', 'apple', 'pear', 'orange', 'kiwi', 'apple', 'banana']\n",
        "c=0\n",
        "for i in frutas:\n",
        "  if i[0]=='a':\n",
        "    c+=1\n",
        "\n",
        "print('O total de palavras com inicio em -a- ',c)"
      ],
      "metadata": {
        "colab": {
          "base_uri": "https://localhost:8080/"
        },
        "id": "lgpR-g6Q8hjc",
        "outputId": "1ac8e7eb-3bf0-4548-b559-d7cd06f98523"
      },
      "execution_count": 6,
      "outputs": [
        {
          "output_type": "stream",
          "name": "stdout",
          "text": [
            "O total de palavras com inicio em -a-  2\n"
          ]
        }
      ]
    },
    {
      "cell_type": "code",
      "source": [
        "lista = [5, 2, 4, 2, 2]\n",
        "lista.count(2)"
      ],
      "metadata": {
        "id": "Uc6iATuEa7Mf"
      },
      "execution_count": null,
      "outputs": []
    },
    {
      "cell_type": "markdown",
      "source": [
        "## Remove todos os elementos de uma lista"
      ],
      "metadata": {
        "id": "n5DFSKf3bZot"
      }
    },
    {
      "cell_type": "code",
      "source": [
        "lista = [5, 2, 4, 2, 2]\n",
        "print(lista)\n",
        "lista.clear()\n",
        "print(lista)"
      ],
      "metadata": {
        "id": "nQxWPqVhbsH1"
      },
      "execution_count": null,
      "outputs": []
    },
    {
      "cell_type": "code",
      "source": [
        "listap=[]\n",
        "listai=[]\n",
        "\n",
        "for i in range(210,512,2):\n",
        "  listap.append(i)\n",
        "  listai.append(i-1)\n",
        "\n",
        "print('Lista dos valores pares:')\n",
        "print(listap)\n",
        "print('Lista dos valores impares:')\n",
        "print(listai)"
      ],
      "metadata": {
        "id": "AylKm3ckrCTu"
      },
      "execution_count": null,
      "outputs": []
    },
    {
      "cell_type": "code",
      "source": [
        "listap=[]\n",
        "listai=[]\n",
        "\n",
        "for i in range(210,512,2):\n",
        "  listap.append(i)\n",
        "  listai.append(i-1)\n",
        "\n",
        "print('Lista dos valores pares:')\n",
        "print(listap)\n",
        "print('A número de elementos..: ',len(listap))\n",
        "print('A soma dos elementos...: ',sum(listap))\n",
        "print('A média dos elementos..: ',sum(listap)/len(listap))\n",
        "print('O maior elementos......: ',max(listap))\n",
        "print('O menor elementos......: ',min(listap))\n",
        "\n",
        "print('Lista dos valores impares:')\n",
        "print(listai)\n",
        "print('A número de elementos..: ',len(listai))\n",
        "print('A soma dos elementos...: ',sum(listai))\n",
        "print('A média dos elementos..: ',sum(listai)/len(listai))\n",
        "print('O maior elementos......: ',max(listai))\n",
        "print('O menor elementos......: ',min(listai))"
      ],
      "metadata": {
        "id": "EJBMaa96iWRW"
      },
      "execution_count": null,
      "outputs": []
    },
    {
      "cell_type": "code",
      "source": [],
      "metadata": {
        "id": "mJo4W1HOl2zg"
      },
      "execution_count": null,
      "outputs": []
    },
    {
      "cell_type": "markdown",
      "source": [
        "### Questão 01\n",
        "\n",
        "Um grande supermercado deseja implementar uma função no seu sistema de vendas que identifique e destaque os produtos que estão vendendo acima de uma certa quantidade mínima. Para isso, os programadores do supermercado têm uma lista com a quantidade de vendas diárias de cada produto. Eles precisam identificar quais produtos venderam acima de um limite estabelecido, e qual é o produto que teve o menor número de vendas entre os que excederam esse limite.\n",
        "\n",
        "\n",
        "Você foi contratado para ajudar a implementar essa função.\n",
        "\n",
        "Escreva um programa em Python que:\n",
        "\n",
        "* Receba uma lista com as quantidades de vendas diárias de diferentes produtos (Cada elemento da lista representa a quantidade de vendas de um determinado produto).\n",
        "\n",
        "* Filtre os produtos que tiveram vendas acima de um certo limite.\n",
        "\n",
        "* Identifique e retorne o produto que teve o menor número de vendas entre os que excederam esse limite.\n",
        "\n",
        "```\n",
        "vendas = [120, 85, 300, 45, 210, 95]\n",
        "limite = 100\n",
        "\n",
        "# Sua tarefa é encontrar o produto com o menor número de vendas que está acima do limite.\n",
        "\n",
        "```\n",
        "\n",
        "**Saída Esperada**:\n",
        "\n",
        "* Neste caso, o programa deve retornar 120, pois é o menor valor da lista entre os produtos que tiveram vendas acima de 100.\n",
        "\n",
        "**Requisitos**:\n",
        "* Utilize estruturas como loops, condicionais e listas.\n",
        "* Deve ser considerado o caso de não haver nenhum produto que ultrapasse o limite (o programa deve indicar essa situação).\n",
        "\n",
        "**Resposta Esperada**:\n",
        "\n",
        "* O programa deve filtrar a lista e identificar o produto com menor venda, retornando-o. Caso nenhum produto atenda ao critério, deve exibir uma mensagem apropriada."
      ],
      "metadata": {
        "id": "gmIuXLV6OjFb"
      }
    },
    {
      "cell_type": "markdown",
      "source": [
        "## Questões desafios"
      ],
      "metadata": {
        "id": "Q8BEzPJGOeHE"
      }
    },
    {
      "cell_type": "code",
      "source": [
        "vendas = [120, 85, 300, 45, 210, 95]\n",
        "limite = 100\n",
        "for i in range(limite  + 1):\n",
        "  if vendas[i] > limite:\n",
        "   print(f'O produto com a menor venda acima do limite é o {i+1} com {vendas[i]} vendas.')"
      ],
      "metadata": {
        "id": "4pClA18wQcfz",
        "colab": {
          "base_uri": "https://localhost:8080/",
          "height": 245
        },
        "outputId": "b5ab1c1e-a831-42b9-bb2d-5627be091239"
      },
      "execution_count": 4,
      "outputs": [
        {
          "output_type": "stream",
          "name": "stdout",
          "text": [
            "O produto com a menor venda acima do limite é o 1 com 120 vendas.\n",
            "O produto com a menor venda acima do limite é o 3 com 300 vendas.\n",
            "O produto com a menor venda acima do limite é o 5 com 210 vendas.\n"
          ]
        },
        {
          "output_type": "error",
          "ename": "IndexError",
          "evalue": "list index out of range",
          "traceback": [
            "\u001b[0;31m---------------------------------------------------------------------------\u001b[0m",
            "\u001b[0;31mIndexError\u001b[0m                                Traceback (most recent call last)",
            "\u001b[0;32m<ipython-input-4-e8877733e912>\u001b[0m in \u001b[0;36m<cell line: 3>\u001b[0;34m()\u001b[0m\n\u001b[1;32m      2\u001b[0m \u001b[0mlimite\u001b[0m \u001b[0;34m=\u001b[0m \u001b[0;36m100\u001b[0m\u001b[0;34m\u001b[0m\u001b[0;34m\u001b[0m\u001b[0m\n\u001b[1;32m      3\u001b[0m \u001b[0;32mfor\u001b[0m \u001b[0mi\u001b[0m \u001b[0;32min\u001b[0m \u001b[0mrange\u001b[0m\u001b[0;34m(\u001b[0m\u001b[0mlimite\u001b[0m  \u001b[0;34m+\u001b[0m \u001b[0;36m1\u001b[0m\u001b[0;34m)\u001b[0m\u001b[0;34m:\u001b[0m\u001b[0;34m\u001b[0m\u001b[0;34m\u001b[0m\u001b[0m\n\u001b[0;32m----> 4\u001b[0;31m   \u001b[0;32mif\u001b[0m \u001b[0mvendas\u001b[0m\u001b[0;34m[\u001b[0m\u001b[0mi\u001b[0m\u001b[0;34m]\u001b[0m \u001b[0;34m>\u001b[0m \u001b[0mlimite\u001b[0m\u001b[0;34m:\u001b[0m\u001b[0;34m\u001b[0m\u001b[0;34m\u001b[0m\u001b[0m\n\u001b[0m\u001b[1;32m      5\u001b[0m    \u001b[0mprint\u001b[0m\u001b[0;34m(\u001b[0m\u001b[0;34mf'O produto com a menor venda acima do limite é o {i+1} com {vendas[i]} vendas.'\u001b[0m\u001b[0;34m)\u001b[0m\u001b[0;34m\u001b[0m\u001b[0;34m\u001b[0m\u001b[0m\n",
            "\u001b[0;31mIndexError\u001b[0m: list index out of range"
          ]
        }
      ]
    },
    {
      "cell_type": "markdown",
      "source": [
        "### Questão 02\n",
        "\n",
        "Uma empresa de tecnologia está analisando a performance dos desenvolvedores em um projeto, com base no número de linhas de código (LOC) que eles escreveram em um dia. A empresa deseja encontrar quais desenvolvedores escreveram linhas de código acima da média do time e, em seguida, identificar quem escreveu o maior número de linhas entre aqueles que estão acima da média.\n",
        "\n",
        "Você foi chamado para ajudar a desenvolver essa funcionalidade.\n",
        "\n",
        "Escreva um programa em Python que:\n",
        "\n",
        "* Receba uma lista com o número de linhas de código que cada desenvolvedor escreveu em um determinado dia.\n",
        "* Calcule a média de linhas de código escritas por todos os desenvolvedores.\n",
        "* Filtre os desenvolvedores que escreveram acima da média.\n",
        "\n",
        "Identifique e retorne o desenvolvedor que escreveu o maior número de linhas de código entre os que estão acima da média.\n",
        "\n",
        "\n",
        "```\n",
        "loc = [150, 200, 250, 180, 220, 175]\n",
        "# A média de linhas de código escritas é de 195.83.\n",
        "# Sua tarefa é encontrar o desenvolvedor com o maior número de linhas de código acima da média.\n",
        "\n",
        "```\n",
        "**Saída Esperada**:\n",
        "* Neste caso, o programa deve retornar 250, pois é o maior número de linhas de código acima da média calculada.\n",
        "\n",
        "**Requisitos**:\n",
        "\n",
        "* Utilize estruturas como loops, condicionais e listas.\n",
        "* Deve ser considerado o caso de todos os desenvolvedores estarem abaixo da média (o programa deve indicar essa situação).\n",
        "\n",
        "**Resposta Esperada**:\n",
        "\n",
        "* O programa deve calcular a média das linhas de código, filtrar os valores acima dessa média, e identificar o valor mais alto entre os que foram filtrados.\n",
        "\n",
        "* Caso todos os valores sejam menores ou iguais à média, o programa deve exibir uma mensagem indicando que nenhum desenvolvedor superou a média.\n"
      ],
      "metadata": {
        "id": "swNdgiB7OyrI"
      }
    },
    {
      "cell_type": "code",
      "source": [],
      "metadata": {
        "id": "VEsbHYeWTEVq"
      },
      "execution_count": null,
      "outputs": []
    }
  ]
}